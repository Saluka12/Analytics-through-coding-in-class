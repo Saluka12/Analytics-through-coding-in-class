{
 "cells": [
  {
   "cell_type": "markdown",
   "id": "eaf21310",
   "metadata": {},
   "source": [
    "### Individual Homework\n",
    "\n",
    "#### Enter your name here:"
   ]
  },
  {
   "cell_type": "code",
   "execution_count": 3,
   "id": "32dde127",
   "metadata": {},
   "outputs": [],
   "source": [
    "import pandas as pd\n",
    "import numpy as np\n",
    "import matplotlib.pyplot as plt\n",
    "import seaborn as sns"
   ]
  },
  {
   "cell_type": "markdown",
   "id": "2f014a92",
   "metadata": {},
   "source": [
    "**Analysis of movies IMDB dataset**\n",
    "\n",
    "We will look at a ***subset*** sample of movies, taken from the [Kaggle IMDB 5000 movie dataset](https://www.kaggle.com/carolzhangdc/imdb-5000-movie-dataset)"
   ]
  },
  {
   "cell_type": "code",
   "execution_count": 4,
   "id": "48182536",
   "metadata": {},
   "outputs": [
    {
     "data": {
      "application/vnd.microsoft.datawrangler.viewer.v0+json": {
       "columns": [
        {
         "name": "index",
         "rawType": "int64",
         "type": "integer"
        },
        {
         "name": "title",
         "rawType": "object",
         "type": "string"
        },
        {
         "name": "genre",
         "rawType": "object",
         "type": "string"
        },
        {
         "name": "director",
         "rawType": "object",
         "type": "string"
        },
        {
         "name": "year",
         "rawType": "int64",
         "type": "integer"
        },
        {
         "name": "duration",
         "rawType": "int64",
         "type": "integer"
        },
        {
         "name": "gross",
         "rawType": "int64",
         "type": "integer"
        },
        {
         "name": "budget",
         "rawType": "int64",
         "type": "integer"
        },
        {
         "name": "cast_facebook_likes",
         "rawType": "int64",
         "type": "integer"
        },
        {
         "name": "votes",
         "rawType": "int64",
         "type": "integer"
        },
        {
         "name": "reviews",
         "rawType": "int64",
         "type": "integer"
        },
        {
         "name": "rating",
         "rawType": "float64",
         "type": "float"
        }
       ],
       "ref": "da67eb48-1fd0-4163-acda-e0ec33b72a6a",
       "rows": [
        [
         "0",
         "Avatar",
         "Action",
         "James Cameron",
         "2009",
         "178",
         "760505847",
         "237000000",
         "4834",
         "886204",
         "3777",
         "7.9"
        ],
        [
         "1",
         "Titanic",
         "Drama",
         "James Cameron",
         "1997",
         "194",
         "658672302",
         "200000000",
         "45223",
         "793059",
         "2843",
         "7.7"
        ],
        [
         "2",
         "Jurassic World",
         "Action",
         "Colin Trevorrow",
         "2015",
         "124",
         "652177271",
         "150000000",
         "8458",
         "418214",
         "1934",
         "7.0"
        ],
        [
         "3",
         "The Avengers",
         "Action",
         "Joss Whedon",
         "2012",
         "173",
         "623279547",
         "220000000",
         "87697",
         "995415",
         "2425",
         "8.1"
        ],
        [
         "4",
         "The Dark Knight",
         "Action",
         "Christopher Nolan",
         "2008",
         "152",
         "533316061",
         "185000000",
         "57802",
         "1676169",
         "5312",
         "9.0"
        ],
        [
         "5",
         "Star Wars: Episode I - The Phantom Menace",
         "Action",
         "George Lucas",
         "1999",
         "136",
         "474544677",
         "115000000",
         "37723",
         "534658",
         "3917",
         "6.5"
        ],
        [
         "6",
         "Star Wars: Episode IV - A New Hope",
         "Action",
         "George Lucas",
         "1977",
         "125",
         "460935665",
         "11000000",
         "13485",
         "911097",
         "1752",
         "8.7"
        ],
        [
         "7",
         "Avengers: Age of Ultron",
         "Action",
         "Joss Whedon",
         "2015",
         "141",
         "458991599",
         "250000000",
         "92000",
         "462669",
         "1752",
         "7.5"
        ],
        [
         "8",
         "The Dark Knight Rises",
         "Action",
         "Christopher Nolan",
         "2012",
         "164",
         "448130642",
         "250000000",
         "106759",
         "1144337",
         "3514",
         "8.5"
        ],
        [
         "9",
         "Shrek 2",
         "Adventure",
         "Andrew Adamson",
         "2004",
         "93",
         "436471036",
         "150000000",
         "1148",
         "314630",
         "688",
         "7.2"
        ],
        [
         "10",
         "E.T. the Extra-Terrestrial",
         "Family",
         "Steven Spielberg",
         "1982",
         "120",
         "434949459",
         "10500000",
         "2811",
         "281842",
         "730",
         "7.9"
        ],
        [
         "11",
         "The Hunger Games: Catching Fire",
         "Adventure",
         "Francis Lawrence",
         "2013",
         "146",
         "424645577",
         "130000000",
         "49355",
         "498397",
         "1208",
         "7.6"
        ],
        [
         "12",
         "Pirates of the Caribbean: Dead Man's Chest",
         "Action",
         "Gore Verbinski",
         "2006",
         "151",
         "423032628",
         "225000000",
         "48486",
         "522040",
         "2145",
         "7.3"
        ],
        [
         "13",
         "The Lion King",
         "Adventure",
         "Roger Allers",
         "1994",
         "73",
         "422783777",
         "45000000",
         "6458",
         "644348",
         "842",
         "8.5"
        ],
        [
         "14",
         "Toy Story 3",
         "Adventure",
         "Lee Unkrich",
         "2010",
         "103",
         "414984497",
         "200000000",
         "19085",
         "544884",
         "1186",
         "8.3"
        ],
        [
         "15",
         "Iron Man 3",
         "Action",
         "Shane Black",
         "2013",
         "195",
         "408992272",
         "200000000",
         "30426",
         "557489",
         "1795",
         "7.2"
        ],
        [
         "16",
         "The Hunger Games",
         "Adventure",
         "Gary Ross",
         "2012",
         "142",
         "407999255",
         "78000000",
         "49942",
         "701607",
         "2632",
         "7.3"
        ],
        [
         "17",
         "Captain America: Civil War",
         "Action",
         "Anthony Russo",
         "2016",
         "147",
         "407197282",
         "250000000",
         "64798",
         "272670",
         "1538",
         "8.2"
        ],
        [
         "18",
         "Spider-Man",
         "Action",
         "Sam Raimi",
         "2002",
         "121",
         "403706375",
         "139000000",
         "40484",
         "544665",
         "2303",
         "7.3"
        ],
        [
         "19",
         "Transformers: Revenge of the Fallen",
         "Action",
         "Michael Bay",
         "2009",
         "150",
         "402076689",
         "200000000",
         "3218",
         "323207",
         "1805",
         "6.0"
        ],
        [
         "20",
         "Frozen",
         "Adventure",
         "Chris Buck",
         "2013",
         "102",
         "400736600",
         "150000000",
         "2582",
         "421658",
         "1310",
         "7.6"
        ],
        [
         "21",
         "Finding Nemo",
         "Adventure",
         "Andrew Stanton",
         "2003",
         "100",
         "380838870",
         "94000000",
         "5641",
         "692482",
         "1167",
         "8.2"
        ],
        [
         "22",
         "Star Wars: Episode III - Revenge of the Sith",
         "Action",
         "George Lucas",
         "2005",
         "140",
         "380262555",
         "113000000",
         "44042",
         "520104",
         "3645",
         "7.6"
        ],
        [
         "23",
         "The Lord of the Rings: The Return of the King",
         "Action",
         "Peter Jackson",
         "2003",
         "192",
         "377019252",
         "94000000",
         "6434",
         "1215718",
         "3517",
         "8.9"
        ],
        [
         "24",
         "Spider-Man 2",
         "Action",
         "Sam Raimi",
         "2004",
         "135",
         "373377893",
         "200000000",
         "43388",
         "411164",
         "1603",
         "7.3"
        ],
        [
         "25",
         "Despicable Me 2",
         "Animation",
         "Pierre Coffin",
         "2013",
         "98",
         "368049635",
         "76000000",
         "11905",
         "286877",
         "590",
         "7.5"
        ],
        [
         "26",
         "Deadpool",
         "Action",
         "Tim Miller",
         "2016",
         "108",
         "363024263",
         "58000000",
         "18239",
         "479047",
         "1637",
         "8.1"
        ],
        [
         "27",
         "Jurassic Park",
         "Adventure",
         "Steven Spielberg",
         "1993",
         "127",
         "356784000",
         "63000000",
         "2129",
         "613473",
         "1203",
         "8.1"
        ],
        [
         "28",
         "Inside Out",
         "Adventure",
         "Pete Docter",
         "2015",
         "95",
         "356454367",
         "175000000",
         "2944",
         "345198",
         "1309",
         "8.3"
        ],
        [
         "29",
         "Transformers: Dark of the Moon",
         "Action",
         "Michael Bay",
         "2011",
         "154",
         "352358779",
         "195000000",
         "2593",
         "326180",
         "1327",
         "6.3"
        ],
        [
         "30",
         "American Sniper",
         "Action",
         "Clint Eastwood",
         "2014",
         "133",
         "350123553",
         "58800000",
         "16277",
         "325264",
         "1406",
         "7.3"
        ],
        [
         "31",
         "Furious 7",
         "Action",
         "James Wan",
         "2015",
         "140",
         "350034110",
         "190000000",
         "79150",
         "278232",
         "1081",
         "7.2"
        ],
        [
         "32",
         "The Lord of the Rings: The Two Towers",
         "Action",
         "Peter Jackson",
         "2002",
         "172",
         "340478898",
         "94000000",
         "23052",
         "1100446",
         "2711",
         "8.7"
        ],
        [
         "33",
         "The Hunger Games: Mockingjay - Part 1",
         "Adventure",
         "Francis Lawrence",
         "2014",
         "123",
         "337103873",
         "125000000",
         "81385",
         "305008",
         "994",
         "6.7"
        ],
        [
         "34",
         "Spider-Man 3",
         "Action",
         "Sam Raimi",
         "2007",
         "156",
         "336530303",
         "258000000",
         "46055",
         "383056",
         "2294",
         "6.2"
        ],
        [
         "35",
         "Spider-Man 3",
         "Action",
         "Sam Raimi",
         "2007",
         "156",
         "336530303",
         "258000000",
         "46055",
         "383071",
         "2294",
         "6.2"
        ],
        [
         "36",
         "Minions",
         "Action",
         "Kyle Balda",
         "2015",
         "91",
         "336029560",
         "74000000",
         "13616",
         "142403",
         "583",
         "6.4"
        ],
        [
         "37",
         "Alice in Wonderland",
         "Adventure",
         "Tim Burton",
         "2010",
         "108",
         "334185206",
         "200000000",
         "79957",
         "306320",
         "1187",
         "6.5"
        ],
        [
         "38",
         "Alice in Wonderland",
         "Adventure",
         "Tim Burton",
         "2010",
         "108",
         "334185206",
         "200000000",
         "79957",
         "306336",
         "1187",
         "6.5"
        ],
        [
         "39",
         "Guardians of the Galaxy",
         "Action",
         "James Gunn",
         "2014",
         "121",
         "333130696",
         "170000000",
         "32438",
         "682155",
         "1750",
         "8.1"
        ],
        [
         "40",
         "Batman v Superman: Dawn of Justice",
         "Action",
         "Zack Snyder",
         "2016",
         "183",
         "330249062",
         "250000000",
         "24450",
         "371639",
         "3691",
         "6.9"
        ],
        [
         "41",
         "Forrest Gump",
         "Comedy",
         "Robert Zemeckis",
         "1994",
         "142",
         "329691196",
         "55000000",
         "15700",
         "1251222",
         "1547",
         "8.8"
        ],
        [
         "42",
         "Shrek the Third",
         "Adventure",
         "Chris Miller",
         "2007",
         "93",
         "320706665",
         "160000000",
         "4705",
         "211971",
         "553",
         "6.1"
        ],
        [
         "43",
         "Transformers",
         "Action",
         "Michael Bay",
         "2007",
         "144",
         "318759914",
         "150000000",
         "2333",
         "513158",
         "2178",
         "7.1"
        ],
        [
         "44",
         "Iron Man",
         "Action",
         "Jon Favreau",
         "2008",
         "126",
         "318298180",
         "140000000",
         "39252",
         "696338",
         "1541",
         "7.9"
        ],
        [
         "45",
         "Indiana Jones and the Kingdom of the Crystal Skull",
         "Action",
         "Steven Spielberg",
         "2008",
         "122",
         "317011114",
         "185000000",
         "14959",
         "333847",
         "2524",
         "6.2"
        ],
        [
         "46",
         "Iron Man 2",
         "Action",
         "Jon Favreau",
         "2010",
         "124",
         "312057433",
         "200000000",
         "48638",
         "522371",
         "1176",
         "7.0"
        ],
        [
         "47",
         "Star Wars: Episode II - Attack of the Clones",
         "Action",
         "George Lucas",
         "2002",
         "142",
         "310675583",
         "115000000",
         "42990",
         "464310",
         "3800",
         "6.7"
        ],
        [
         "48",
         "Pirates of the Caribbean: At World's End",
         "Action",
         "Gore Verbinski",
         "2007",
         "169",
         "309404152",
         "300000000",
         "48350",
         "471220",
         "1540",
         "7.1"
        ],
        [
         "49",
         "Star Wars: Episode VI - Return of the Jedi",
         "Action",
         "Richard Marquand",
         "1983",
         "134",
         "309125409",
         "32500000",
         "13649",
         "681857",
         "844",
         "8.4"
        ]
       ],
       "shape": {
        "columns": 11,
        "rows": 2961
       }
      },
      "text/html": [
       "<div>\n",
       "<style scoped>\n",
       "    .dataframe tbody tr th:only-of-type {\n",
       "        vertical-align: middle;\n",
       "    }\n",
       "\n",
       "    .dataframe tbody tr th {\n",
       "        vertical-align: top;\n",
       "    }\n",
       "\n",
       "    .dataframe thead th {\n",
       "        text-align: right;\n",
       "    }\n",
       "</style>\n",
       "<table border=\"1\" class=\"dataframe\">\n",
       "  <thead>\n",
       "    <tr style=\"text-align: right;\">\n",
       "      <th></th>\n",
       "      <th>title</th>\n",
       "      <th>genre</th>\n",
       "      <th>director</th>\n",
       "      <th>year</th>\n",
       "      <th>duration</th>\n",
       "      <th>gross</th>\n",
       "      <th>budget</th>\n",
       "      <th>cast_facebook_likes</th>\n",
       "      <th>votes</th>\n",
       "      <th>reviews</th>\n",
       "      <th>rating</th>\n",
       "    </tr>\n",
       "  </thead>\n",
       "  <tbody>\n",
       "    <tr>\n",
       "      <th>0</th>\n",
       "      <td>Avatar</td>\n",
       "      <td>Action</td>\n",
       "      <td>James Cameron</td>\n",
       "      <td>2009</td>\n",
       "      <td>178</td>\n",
       "      <td>760505847</td>\n",
       "      <td>237000000</td>\n",
       "      <td>4834</td>\n",
       "      <td>886204</td>\n",
       "      <td>3777</td>\n",
       "      <td>7.9</td>\n",
       "    </tr>\n",
       "    <tr>\n",
       "      <th>1</th>\n",
       "      <td>Titanic</td>\n",
       "      <td>Drama</td>\n",
       "      <td>James Cameron</td>\n",
       "      <td>1997</td>\n",
       "      <td>194</td>\n",
       "      <td>658672302</td>\n",
       "      <td>200000000</td>\n",
       "      <td>45223</td>\n",
       "      <td>793059</td>\n",
       "      <td>2843</td>\n",
       "      <td>7.7</td>\n",
       "    </tr>\n",
       "    <tr>\n",
       "      <th>2</th>\n",
       "      <td>Jurassic World</td>\n",
       "      <td>Action</td>\n",
       "      <td>Colin Trevorrow</td>\n",
       "      <td>2015</td>\n",
       "      <td>124</td>\n",
       "      <td>652177271</td>\n",
       "      <td>150000000</td>\n",
       "      <td>8458</td>\n",
       "      <td>418214</td>\n",
       "      <td>1934</td>\n",
       "      <td>7.0</td>\n",
       "    </tr>\n",
       "    <tr>\n",
       "      <th>3</th>\n",
       "      <td>The Avengers</td>\n",
       "      <td>Action</td>\n",
       "      <td>Joss Whedon</td>\n",
       "      <td>2012</td>\n",
       "      <td>173</td>\n",
       "      <td>623279547</td>\n",
       "      <td>220000000</td>\n",
       "      <td>87697</td>\n",
       "      <td>995415</td>\n",
       "      <td>2425</td>\n",
       "      <td>8.1</td>\n",
       "    </tr>\n",
       "    <tr>\n",
       "      <th>4</th>\n",
       "      <td>The Dark Knight</td>\n",
       "      <td>Action</td>\n",
       "      <td>Christopher Nolan</td>\n",
       "      <td>2008</td>\n",
       "      <td>152</td>\n",
       "      <td>533316061</td>\n",
       "      <td>185000000</td>\n",
       "      <td>57802</td>\n",
       "      <td>1676169</td>\n",
       "      <td>5312</td>\n",
       "      <td>9.0</td>\n",
       "    </tr>\n",
       "    <tr>\n",
       "      <th>...</th>\n",
       "      <td>...</td>\n",
       "      <td>...</td>\n",
       "      <td>...</td>\n",
       "      <td>...</td>\n",
       "      <td>...</td>\n",
       "      <td>...</td>\n",
       "      <td>...</td>\n",
       "      <td>...</td>\n",
       "      <td>...</td>\n",
       "      <td>...</td>\n",
       "      <td>...</td>\n",
       "    </tr>\n",
       "    <tr>\n",
       "      <th>2956</th>\n",
       "      <td>Locker 13</td>\n",
       "      <td>Thriller</td>\n",
       "      <td>Bruce Dellis</td>\n",
       "      <td>2014</td>\n",
       "      <td>95</td>\n",
       "      <td>2468</td>\n",
       "      <td>300000</td>\n",
       "      <td>2048</td>\n",
       "      <td>241</td>\n",
       "      <td>15</td>\n",
       "      <td>4.8</td>\n",
       "    </tr>\n",
       "    <tr>\n",
       "      <th>2957</th>\n",
       "      <td>The Ghastly Love of Johnny X</td>\n",
       "      <td>Comedy</td>\n",
       "      <td>Paul Bunnell</td>\n",
       "      <td>2012</td>\n",
       "      <td>106</td>\n",
       "      <td>2436</td>\n",
       "      <td>2000000</td>\n",
       "      <td>1611</td>\n",
       "      <td>344</td>\n",
       "      <td>113</td>\n",
       "      <td>5.7</td>\n",
       "    </tr>\n",
       "    <tr>\n",
       "      <th>2958</th>\n",
       "      <td>Detention of the Dead</td>\n",
       "      <td>Comedy</td>\n",
       "      <td>Alex Craig Mann</td>\n",
       "      <td>2012</td>\n",
       "      <td>87</td>\n",
       "      <td>1332</td>\n",
       "      <td>500000</td>\n",
       "      <td>2251</td>\n",
       "      <td>2038</td>\n",
       "      <td>49</td>\n",
       "      <td>4.6</td>\n",
       "    </tr>\n",
       "    <tr>\n",
       "      <th>2959</th>\n",
       "      <td>The Trials of Darryl Hunt</td>\n",
       "      <td>Crime</td>\n",
       "      <td>Ricki Stern</td>\n",
       "      <td>2006</td>\n",
       "      <td>106</td>\n",
       "      <td>1111</td>\n",
       "      <td>200000</td>\n",
       "      <td>2</td>\n",
       "      <td>771</td>\n",
       "      <td>21</td>\n",
       "      <td>7.7</td>\n",
       "    </tr>\n",
       "    <tr>\n",
       "      <th>2960</th>\n",
       "      <td>The Jimmy Show</td>\n",
       "      <td>Comedy</td>\n",
       "      <td>Frank Whaley</td>\n",
       "      <td>2001</td>\n",
       "      <td>96</td>\n",
       "      <td>703</td>\n",
       "      <td>1500000</td>\n",
       "      <td>920</td>\n",
       "      <td>480</td>\n",
       "      <td>30</td>\n",
       "      <td>5.4</td>\n",
       "    </tr>\n",
       "  </tbody>\n",
       "</table>\n",
       "<p>2961 rows × 11 columns</p>\n",
       "</div>"
      ],
      "text/plain": [
       "                             title     genre           director  year  \\\n",
       "0                           Avatar    Action      James Cameron  2009   \n",
       "1                          Titanic     Drama      James Cameron  1997   \n",
       "2                   Jurassic World    Action    Colin Trevorrow  2015   \n",
       "3                     The Avengers    Action        Joss Whedon  2012   \n",
       "4                  The Dark Knight    Action  Christopher Nolan  2008   \n",
       "...                            ...       ...                ...   ...   \n",
       "2956                     Locker 13  Thriller       Bruce Dellis  2014   \n",
       "2957  The Ghastly Love of Johnny X    Comedy       Paul Bunnell  2012   \n",
       "2958         Detention of the Dead    Comedy    Alex Craig Mann  2012   \n",
       "2959     The Trials of Darryl Hunt     Crime        Ricki Stern  2006   \n",
       "2960                The Jimmy Show    Comedy       Frank Whaley  2001   \n",
       "\n",
       "      duration      gross     budget  cast_facebook_likes    votes  reviews  \\\n",
       "0          178  760505847  237000000                 4834   886204     3777   \n",
       "1          194  658672302  200000000                45223   793059     2843   \n",
       "2          124  652177271  150000000                 8458   418214     1934   \n",
       "3          173  623279547  220000000                87697   995415     2425   \n",
       "4          152  533316061  185000000                57802  1676169     5312   \n",
       "...        ...        ...        ...                  ...      ...      ...   \n",
       "2956        95       2468     300000                 2048      241       15   \n",
       "2957       106       2436    2000000                 1611      344      113   \n",
       "2958        87       1332     500000                 2251     2038       49   \n",
       "2959       106       1111     200000                    2      771       21   \n",
       "2960        96        703    1500000                  920      480       30   \n",
       "\n",
       "      rating  \n",
       "0        7.9  \n",
       "1        7.7  \n",
       "2        7.0  \n",
       "3        8.1  \n",
       "4        9.0  \n",
       "...      ...  \n",
       "2956     4.8  \n",
       "2957     5.7  \n",
       "2958     4.6  \n",
       "2959     7.7  \n",
       "2960     5.4  \n",
       "\n",
       "[2961 rows x 11 columns]"
      ]
     },
     "execution_count": 4,
     "metadata": {},
     "output_type": "execute_result"
    }
   ],
   "source": [
    "movies = pd.read_csv('../Data/movies.csv')\n",
    "movies"
   ]
  },
  {
   "cell_type": "markdown",
   "id": "f1ad849a",
   "metadata": {},
   "source": [
    "Besides the obvious variables of `title`, `genre`, `director`, `year`, and `duration`, the rest of the variables are as follows:\n",
    "\n",
    "-   `gross` : The gross earnings in the US box office, not adjusted for inflation\n",
    "-   `budget`: The movie's budget\n",
    "-   `cast_facebook_likes`: the number of facebook likes cast memebrs received\n",
    "-   `votes`: the number of people who voted for (or rated) the movie in IMDB\n",
    "-   `reviews`: the number of reviews for that movie\n",
    "-   `rating`: IMDB average rating"
   ]
  },
  {
   "cell_type": "markdown",
   "id": "7bc9a878",
   "metadata": {},
   "source": [
    "**Produce a table with the count of movies by genre, ranked in descending order**\n"
   ]
  },
  {
   "cell_type": "code",
   "execution_count": 5,
   "id": "8f34f553",
   "metadata": {},
   "outputs": [
    {
     "data": {
      "application/vnd.microsoft.datawrangler.viewer.v0+json": {
       "columns": [
        {
         "name": "genre",
         "rawType": "object",
         "type": "string"
        },
        {
         "name": "count",
         "rawType": "int64",
         "type": "integer"
        }
       ],
       "ref": "adcea9f8-c88b-40a9-8f72-b7a8202e1a86",
       "rows": [
        [
         "Comedy",
         "848"
        ],
        [
         "Action",
         "738"
        ],
        [
         "Drama",
         "498"
        ],
        [
         "Adventure",
         "288"
        ],
        [
         "Crime",
         "202"
        ],
        [
         "Biography",
         "135"
        ],
        [
         "Horror",
         "131"
        ],
        [
         "Animation",
         "35"
        ],
        [
         "Fantasy",
         "28"
        ],
        [
         "Documentary",
         "25"
        ],
        [
         "Mystery",
         "16"
        ],
        [
         "Sci-Fi",
         "7"
        ],
        [
         "Family",
         "3"
        ],
        [
         "Musical",
         "2"
        ],
        [
         "Romance",
         "2"
        ],
        [
         "Western",
         "2"
        ],
        [
         "Thriller",
         "1"
        ]
       ],
       "shape": {
        "columns": 1,
        "rows": 17
       }
      },
      "text/html": [
       "<div>\n",
       "<style scoped>\n",
       "    .dataframe tbody tr th:only-of-type {\n",
       "        vertical-align: middle;\n",
       "    }\n",
       "\n",
       "    .dataframe tbody tr th {\n",
       "        vertical-align: top;\n",
       "    }\n",
       "\n",
       "    .dataframe thead th {\n",
       "        text-align: right;\n",
       "    }\n",
       "</style>\n",
       "<table border=\"1\" class=\"dataframe\">\n",
       "  <thead>\n",
       "    <tr style=\"text-align: right;\">\n",
       "      <th></th>\n",
       "      <th>count</th>\n",
       "    </tr>\n",
       "    <tr>\n",
       "      <th>genre</th>\n",
       "      <th></th>\n",
       "    </tr>\n",
       "  </thead>\n",
       "  <tbody>\n",
       "    <tr>\n",
       "      <th>Comedy</th>\n",
       "      <td>848</td>\n",
       "    </tr>\n",
       "    <tr>\n",
       "      <th>Action</th>\n",
       "      <td>738</td>\n",
       "    </tr>\n",
       "    <tr>\n",
       "      <th>Drama</th>\n",
       "      <td>498</td>\n",
       "    </tr>\n",
       "    <tr>\n",
       "      <th>Adventure</th>\n",
       "      <td>288</td>\n",
       "    </tr>\n",
       "    <tr>\n",
       "      <th>Crime</th>\n",
       "      <td>202</td>\n",
       "    </tr>\n",
       "    <tr>\n",
       "      <th>Biography</th>\n",
       "      <td>135</td>\n",
       "    </tr>\n",
       "    <tr>\n",
       "      <th>Horror</th>\n",
       "      <td>131</td>\n",
       "    </tr>\n",
       "    <tr>\n",
       "      <th>Animation</th>\n",
       "      <td>35</td>\n",
       "    </tr>\n",
       "    <tr>\n",
       "      <th>Fantasy</th>\n",
       "      <td>28</td>\n",
       "    </tr>\n",
       "    <tr>\n",
       "      <th>Documentary</th>\n",
       "      <td>25</td>\n",
       "    </tr>\n",
       "    <tr>\n",
       "      <th>Mystery</th>\n",
       "      <td>16</td>\n",
       "    </tr>\n",
       "    <tr>\n",
       "      <th>Sci-Fi</th>\n",
       "      <td>7</td>\n",
       "    </tr>\n",
       "    <tr>\n",
       "      <th>Family</th>\n",
       "      <td>3</td>\n",
       "    </tr>\n",
       "    <tr>\n",
       "      <th>Musical</th>\n",
       "      <td>2</td>\n",
       "    </tr>\n",
       "    <tr>\n",
       "      <th>Romance</th>\n",
       "      <td>2</td>\n",
       "    </tr>\n",
       "    <tr>\n",
       "      <th>Western</th>\n",
       "      <td>2</td>\n",
       "    </tr>\n",
       "    <tr>\n",
       "      <th>Thriller</th>\n",
       "      <td>1</td>\n",
       "    </tr>\n",
       "  </tbody>\n",
       "</table>\n",
       "</div>"
      ],
      "text/plain": [
       "             count\n",
       "genre             \n",
       "Comedy         848\n",
       "Action         738\n",
       "Drama          498\n",
       "Adventure      288\n",
       "Crime          202\n",
       "Biography      135\n",
       "Horror         131\n",
       "Animation       35\n",
       "Fantasy         28\n",
       "Documentary     25\n",
       "Mystery         16\n",
       "Sci-Fi           7\n",
       "Family           3\n",
       "Musical          2\n",
       "Romance          2\n",
       "Western          2\n",
       "Thriller         1"
      ]
     },
     "execution_count": 5,
     "metadata": {},
     "output_type": "execute_result"
    }
   ],
   "source": [
    "movies.groupby(\"genre\").agg(count=(\"title\", \"count\")).sort_values(by=\"count\", ascending=False)"
   ]
  },
  {
   "cell_type": "markdown",
   "id": "1db84ec8",
   "metadata": {},
   "source": [
    "**Produce a table with the average gross earning and budget (`gross` and `budget`) by genre. Calculate a variable `return_on_budget` which shows how many \\$ did a movie make at the box office for each \\$ of its budget. Ranked genres by this `return_on_budget` in descending order**"
   ]
  },
  {
   "cell_type": "code",
   "execution_count": 17,
   "id": "9cc7ca98",
   "metadata": {},
   "outputs": [
    {
     "data": {
      "application/vnd.microsoft.datawrangler.viewer.v0+json": {
       "columns": [
        {
         "name": "genre",
         "rawType": "object",
         "type": "string"
        },
        {
         "name": "avg_gross",
         "rawType": "float64",
         "type": "float"
        },
        {
         "name": "avg_budget",
         "rawType": "float64",
         "type": "float"
        },
        {
         "name": "return_on_budget",
         "rawType": "float64",
         "type": "float"
        }
       ],
       "ref": "5cfedb83-da33-4a55-bcc3-7296f6ed9581",
       "rows": [
        [
         "Musical",
         "92084000.0",
         "3189500.0",
         "28.870982912682237"
        ],
        [
         "Family",
         "149160477.66666666",
         "14833333.333333334",
         "10.055762539325842"
        ],
        [
         "Western",
         "20821884.0",
         "3465000.0",
         "6.009201731601731"
        ],
        [
         "Documentary",
         "17353973.44",
         "5887852.44",
         "2.9474198983152506"
        ],
        [
         "Horror",
         "37713737.603053436",
         "13504916.114503818",
         "2.792593251471601"
        ],
        [
         "Fantasy",
         "42408840.571428575",
         "17582142.85714286",
         "2.4120404956327444"
        ],
        [
         "Comedy",
         "42630551.9634434",
         "24446319.396226414",
         "1.7438433685041332"
        ],
        [
         "Mystery",
         "67533020.9375",
         "39218750.0",
         "1.7219575059760956"
        ],
        [
         "Animation",
         "98433792.17142858",
         "61701428.571428575",
         "1.5953243620198652"
        ],
        [
         "Biography",
         "45201805.18518519",
         "28543696.31851852",
         "1.5836002695929488"
        ],
        [
         "Adventure",
         "95794257.11805555",
         "66290069.44444445",
         "1.4450770367398333"
        ],
        [
         "Drama",
         "37465371.11445783",
         "26242933.473895583",
         "1.4276365541118126"
        ],
        [
         "Crime",
         "37502396.74257426",
         "26596169.143564355",
         "1.4100676131264924"
        ],
        [
         "Romance",
         "31264848.5",
         "25107500.0",
         "1.2452394105347009"
        ],
        [
         "Action",
         "86583860.13414635",
         "71354887.53387535",
         "1.2134257810026137"
        ],
        [
         "Sci-Fi",
         "29788370.85714286",
         "27607142.85714286",
         "1.079009552393273"
        ],
        [
         "Thriller",
         "2468.0",
         "300000.0",
         "0.008226666666666667"
        ]
       ],
       "shape": {
        "columns": 3,
        "rows": 17
       }
      },
      "text/html": [
       "<div>\n",
       "<style scoped>\n",
       "    .dataframe tbody tr th:only-of-type {\n",
       "        vertical-align: middle;\n",
       "    }\n",
       "\n",
       "    .dataframe tbody tr th {\n",
       "        vertical-align: top;\n",
       "    }\n",
       "\n",
       "    .dataframe thead th {\n",
       "        text-align: right;\n",
       "    }\n",
       "</style>\n",
       "<table border=\"1\" class=\"dataframe\">\n",
       "  <thead>\n",
       "    <tr style=\"text-align: right;\">\n",
       "      <th></th>\n",
       "      <th>avg_gross</th>\n",
       "      <th>avg_budget</th>\n",
       "      <th>return_on_budget</th>\n",
       "    </tr>\n",
       "    <tr>\n",
       "      <th>genre</th>\n",
       "      <th></th>\n",
       "      <th></th>\n",
       "      <th></th>\n",
       "    </tr>\n",
       "  </thead>\n",
       "  <tbody>\n",
       "    <tr>\n",
       "      <th>Musical</th>\n",
       "      <td>9.208400e+07</td>\n",
       "      <td>3.189500e+06</td>\n",
       "      <td>28.870983</td>\n",
       "    </tr>\n",
       "    <tr>\n",
       "      <th>Family</th>\n",
       "      <td>1.491605e+08</td>\n",
       "      <td>1.483333e+07</td>\n",
       "      <td>10.055763</td>\n",
       "    </tr>\n",
       "    <tr>\n",
       "      <th>Western</th>\n",
       "      <td>2.082188e+07</td>\n",
       "      <td>3.465000e+06</td>\n",
       "      <td>6.009202</td>\n",
       "    </tr>\n",
       "    <tr>\n",
       "      <th>Documentary</th>\n",
       "      <td>1.735397e+07</td>\n",
       "      <td>5.887852e+06</td>\n",
       "      <td>2.947420</td>\n",
       "    </tr>\n",
       "    <tr>\n",
       "      <th>Horror</th>\n",
       "      <td>3.771374e+07</td>\n",
       "      <td>1.350492e+07</td>\n",
       "      <td>2.792593</td>\n",
       "    </tr>\n",
       "    <tr>\n",
       "      <th>Fantasy</th>\n",
       "      <td>4.240884e+07</td>\n",
       "      <td>1.758214e+07</td>\n",
       "      <td>2.412040</td>\n",
       "    </tr>\n",
       "    <tr>\n",
       "      <th>Comedy</th>\n",
       "      <td>4.263055e+07</td>\n",
       "      <td>2.444632e+07</td>\n",
       "      <td>1.743843</td>\n",
       "    </tr>\n",
       "    <tr>\n",
       "      <th>Mystery</th>\n",
       "      <td>6.753302e+07</td>\n",
       "      <td>3.921875e+07</td>\n",
       "      <td>1.721958</td>\n",
       "    </tr>\n",
       "    <tr>\n",
       "      <th>Animation</th>\n",
       "      <td>9.843379e+07</td>\n",
       "      <td>6.170143e+07</td>\n",
       "      <td>1.595324</td>\n",
       "    </tr>\n",
       "    <tr>\n",
       "      <th>Biography</th>\n",
       "      <td>4.520181e+07</td>\n",
       "      <td>2.854370e+07</td>\n",
       "      <td>1.583600</td>\n",
       "    </tr>\n",
       "    <tr>\n",
       "      <th>Adventure</th>\n",
       "      <td>9.579426e+07</td>\n",
       "      <td>6.629007e+07</td>\n",
       "      <td>1.445077</td>\n",
       "    </tr>\n",
       "    <tr>\n",
       "      <th>Drama</th>\n",
       "      <td>3.746537e+07</td>\n",
       "      <td>2.624293e+07</td>\n",
       "      <td>1.427637</td>\n",
       "    </tr>\n",
       "    <tr>\n",
       "      <th>Crime</th>\n",
       "      <td>3.750240e+07</td>\n",
       "      <td>2.659617e+07</td>\n",
       "      <td>1.410068</td>\n",
       "    </tr>\n",
       "    <tr>\n",
       "      <th>Romance</th>\n",
       "      <td>3.126485e+07</td>\n",
       "      <td>2.510750e+07</td>\n",
       "      <td>1.245239</td>\n",
       "    </tr>\n",
       "    <tr>\n",
       "      <th>Action</th>\n",
       "      <td>8.658386e+07</td>\n",
       "      <td>7.135489e+07</td>\n",
       "      <td>1.213426</td>\n",
       "    </tr>\n",
       "    <tr>\n",
       "      <th>Sci-Fi</th>\n",
       "      <td>2.978837e+07</td>\n",
       "      <td>2.760714e+07</td>\n",
       "      <td>1.079010</td>\n",
       "    </tr>\n",
       "    <tr>\n",
       "      <th>Thriller</th>\n",
       "      <td>2.468000e+03</td>\n",
       "      <td>3.000000e+05</td>\n",
       "      <td>0.008227</td>\n",
       "    </tr>\n",
       "  </tbody>\n",
       "</table>\n",
       "</div>"
      ],
      "text/plain": [
       "                avg_gross    avg_budget  return_on_budget\n",
       "genre                                                    \n",
       "Musical      9.208400e+07  3.189500e+06         28.870983\n",
       "Family       1.491605e+08  1.483333e+07         10.055763\n",
       "Western      2.082188e+07  3.465000e+06          6.009202\n",
       "Documentary  1.735397e+07  5.887852e+06          2.947420\n",
       "Horror       3.771374e+07  1.350492e+07          2.792593\n",
       "Fantasy      4.240884e+07  1.758214e+07          2.412040\n",
       "Comedy       4.263055e+07  2.444632e+07          1.743843\n",
       "Mystery      6.753302e+07  3.921875e+07          1.721958\n",
       "Animation    9.843379e+07  6.170143e+07          1.595324\n",
       "Biography    4.520181e+07  2.854370e+07          1.583600\n",
       "Adventure    9.579426e+07  6.629007e+07          1.445077\n",
       "Drama        3.746537e+07  2.624293e+07          1.427637\n",
       "Crime        3.750240e+07  2.659617e+07          1.410068\n",
       "Romance      3.126485e+07  2.510750e+07          1.245239\n",
       "Action       8.658386e+07  7.135489e+07          1.213426\n",
       "Sci-Fi       2.978837e+07  2.760714e+07          1.079010\n",
       "Thriller     2.468000e+03  3.000000e+05          0.008227"
      ]
     },
     "execution_count": 17,
     "metadata": {},
     "output_type": "execute_result"
    }
   ],
   "source": [
    "# 2) Avg gross & budget by genre + return_on_budget (descending by ROI)\n",
    "gvb = movies.groupby(\"genre\").agg(\n",
    "    avg_gross=(\"gross\", \"mean\"),\n",
    "    avg_budget=(\"budget\", \"mean\")\n",
    ")\n",
    "gvb.assign(return_on_budget = gb[\"avg_gross\"] / gb[\"avg_budget\"]).sort_values(\"return_on_budget\", ascending=False)\n"
   ]
  },
  {
   "cell_type": "markdown",
   "id": "97d944f5",
   "metadata": {},
   "source": [
    "**Produce a table that shows the top 15 directors who have created the highest gross revenue in the box office. Don't just show the total gross amount, but also the mean, median, and standard deviation per director**"
   ]
  },
  {
   "cell_type": "code",
   "execution_count": 8,
   "id": "26636954",
   "metadata": {},
   "outputs": [
    {
     "data": {
      "application/vnd.microsoft.datawrangler.viewer.v0+json": {
       "columns": [
        {
         "name": "director",
         "rawType": "object",
         "type": "string"
        },
        {
         "name": "sum",
         "rawType": "int64",
         "type": "integer"
        },
        {
         "name": "mean",
         "rawType": "float64",
         "type": "float"
        },
        {
         "name": "median",
         "rawType": "float64",
         "type": "float"
        },
        {
         "name": "std",
         "rawType": "float64",
         "type": "float"
        }
       ],
       "ref": "a6ba1a57-f101-41de-8966-4b41df1e2d78",
       "rows": [
        [
         "Steven Spielberg",
         "4014061704",
         "174524421.91304347",
         "164435221.0",
         "101421050.59455852"
        ],
        [
         "Michael Bay",
         "2231242537",
         "171634041.30769232",
         "138396624.0",
         "127161579.27534486"
        ],
        [
         "Tim Burton",
         "2071275480",
         "129454717.5",
         "76519172.0",
         "108726924.40795335"
        ],
        [
         "Sam Raimi",
         "2014600898",
         "201460089.8",
         "234903076.0",
         "162126632.16783455"
        ],
        [
         "James Cameron",
         "1909725910",
         "318287651.6666667",
         "175562880.5",
         "309171336.5153613"
        ],
        [
         "Christopher Nolan",
         "1813227576",
         "226653447.0",
         "196667606.5",
         "187224132.85087627"
        ],
        [
         "George Lucas",
         "1741418480",
         "348283696.0",
         "380262555.0",
         "146193879.7012741"
        ],
        [
         "Robert Zemeckis",
         "1619309108",
         "124562239.07692307",
         "100853835.0",
         "91300278.74378212"
        ],
        [
         "Clint Eastwood",
         "1378321100",
         "72543215.78947368",
         "46700000.0",
         "75487407.6650002"
        ],
        [
         "Francis Lawrence",
         "1358501971",
         "271700394.2",
         "281666058.0",
         "135437019.67797166"
        ],
        [
         "Ron Howard",
         "1335988092",
         "111332341.0",
         "101587923.0",
         "81933760.77726111"
        ],
        [
         "Gore Verbinski",
         "1329600995",
         "189942999.2857143",
         "123207194.0",
         "154473821.73885235"
        ],
        [
         "Andrew Adamson",
         "1137446920",
         "284361730.0",
         "279680930.5",
         "120895765.24369316"
        ],
        [
         "Shawn Levy",
         "1129750988",
         "102704635.27272727",
         "85463309.0",
         "65484772.9200798"
        ],
        [
         "Ridley Scott",
         "1128857598",
         "80632685.57142857",
         "47775715.0",
         "68812284.66018327"
        ]
       ],
       "shape": {
        "columns": 4,
        "rows": 15
       }
      },
      "text/html": [
       "<div>\n",
       "<style scoped>\n",
       "    .dataframe tbody tr th:only-of-type {\n",
       "        vertical-align: middle;\n",
       "    }\n",
       "\n",
       "    .dataframe tbody tr th {\n",
       "        vertical-align: top;\n",
       "    }\n",
       "\n",
       "    .dataframe thead th {\n",
       "        text-align: right;\n",
       "    }\n",
       "</style>\n",
       "<table border=\"1\" class=\"dataframe\">\n",
       "  <thead>\n",
       "    <tr style=\"text-align: right;\">\n",
       "      <th></th>\n",
       "      <th>sum</th>\n",
       "      <th>mean</th>\n",
       "      <th>median</th>\n",
       "      <th>std</th>\n",
       "    </tr>\n",
       "    <tr>\n",
       "      <th>director</th>\n",
       "      <th></th>\n",
       "      <th></th>\n",
       "      <th></th>\n",
       "      <th></th>\n",
       "    </tr>\n",
       "  </thead>\n",
       "  <tbody>\n",
       "    <tr>\n",
       "      <th>Steven Spielberg</th>\n",
       "      <td>4014061704</td>\n",
       "      <td>1.745244e+08</td>\n",
       "      <td>164435221.0</td>\n",
       "      <td>1.014211e+08</td>\n",
       "    </tr>\n",
       "    <tr>\n",
       "      <th>Michael Bay</th>\n",
       "      <td>2231242537</td>\n",
       "      <td>1.716340e+08</td>\n",
       "      <td>138396624.0</td>\n",
       "      <td>1.271616e+08</td>\n",
       "    </tr>\n",
       "    <tr>\n",
       "      <th>Tim Burton</th>\n",
       "      <td>2071275480</td>\n",
       "      <td>1.294547e+08</td>\n",
       "      <td>76519172.0</td>\n",
       "      <td>1.087269e+08</td>\n",
       "    </tr>\n",
       "    <tr>\n",
       "      <th>Sam Raimi</th>\n",
       "      <td>2014600898</td>\n",
       "      <td>2.014601e+08</td>\n",
       "      <td>234903076.0</td>\n",
       "      <td>1.621266e+08</td>\n",
       "    </tr>\n",
       "    <tr>\n",
       "      <th>James Cameron</th>\n",
       "      <td>1909725910</td>\n",
       "      <td>3.182877e+08</td>\n",
       "      <td>175562880.5</td>\n",
       "      <td>3.091713e+08</td>\n",
       "    </tr>\n",
       "    <tr>\n",
       "      <th>Christopher Nolan</th>\n",
       "      <td>1813227576</td>\n",
       "      <td>2.266534e+08</td>\n",
       "      <td>196667606.5</td>\n",
       "      <td>1.872241e+08</td>\n",
       "    </tr>\n",
       "    <tr>\n",
       "      <th>George Lucas</th>\n",
       "      <td>1741418480</td>\n",
       "      <td>3.482837e+08</td>\n",
       "      <td>380262555.0</td>\n",
       "      <td>1.461939e+08</td>\n",
       "    </tr>\n",
       "    <tr>\n",
       "      <th>Robert Zemeckis</th>\n",
       "      <td>1619309108</td>\n",
       "      <td>1.245622e+08</td>\n",
       "      <td>100853835.0</td>\n",
       "      <td>9.130028e+07</td>\n",
       "    </tr>\n",
       "    <tr>\n",
       "      <th>Clint Eastwood</th>\n",
       "      <td>1378321100</td>\n",
       "      <td>7.254322e+07</td>\n",
       "      <td>46700000.0</td>\n",
       "      <td>7.548741e+07</td>\n",
       "    </tr>\n",
       "    <tr>\n",
       "      <th>Francis Lawrence</th>\n",
       "      <td>1358501971</td>\n",
       "      <td>2.717004e+08</td>\n",
       "      <td>281666058.0</td>\n",
       "      <td>1.354370e+08</td>\n",
       "    </tr>\n",
       "    <tr>\n",
       "      <th>Ron Howard</th>\n",
       "      <td>1335988092</td>\n",
       "      <td>1.113323e+08</td>\n",
       "      <td>101587923.0</td>\n",
       "      <td>8.193376e+07</td>\n",
       "    </tr>\n",
       "    <tr>\n",
       "      <th>Gore Verbinski</th>\n",
       "      <td>1329600995</td>\n",
       "      <td>1.899430e+08</td>\n",
       "      <td>123207194.0</td>\n",
       "      <td>1.544738e+08</td>\n",
       "    </tr>\n",
       "    <tr>\n",
       "      <th>Andrew Adamson</th>\n",
       "      <td>1137446920</td>\n",
       "      <td>2.843617e+08</td>\n",
       "      <td>279680930.5</td>\n",
       "      <td>1.208958e+08</td>\n",
       "    </tr>\n",
       "    <tr>\n",
       "      <th>Shawn Levy</th>\n",
       "      <td>1129750988</td>\n",
       "      <td>1.027046e+08</td>\n",
       "      <td>85463309.0</td>\n",
       "      <td>6.548477e+07</td>\n",
       "    </tr>\n",
       "    <tr>\n",
       "      <th>Ridley Scott</th>\n",
       "      <td>1128857598</td>\n",
       "      <td>8.063269e+07</td>\n",
       "      <td>47775715.0</td>\n",
       "      <td>6.881228e+07</td>\n",
       "    </tr>\n",
       "  </tbody>\n",
       "</table>\n",
       "</div>"
      ],
      "text/plain": [
       "                          sum          mean       median           std\n",
       "director                                                              \n",
       "Steven Spielberg   4014061704  1.745244e+08  164435221.0  1.014211e+08\n",
       "Michael Bay        2231242537  1.716340e+08  138396624.0  1.271616e+08\n",
       "Tim Burton         2071275480  1.294547e+08   76519172.0  1.087269e+08\n",
       "Sam Raimi          2014600898  2.014601e+08  234903076.0  1.621266e+08\n",
       "James Cameron      1909725910  3.182877e+08  175562880.5  3.091713e+08\n",
       "Christopher Nolan  1813227576  2.266534e+08  196667606.5  1.872241e+08\n",
       "George Lucas       1741418480  3.482837e+08  380262555.0  1.461939e+08\n",
       "Robert Zemeckis    1619309108  1.245622e+08  100853835.0  9.130028e+07\n",
       "Clint Eastwood     1378321100  7.254322e+07   46700000.0  7.548741e+07\n",
       "Francis Lawrence   1358501971  2.717004e+08  281666058.0  1.354370e+08\n",
       "Ron Howard         1335988092  1.113323e+08  101587923.0  8.193376e+07\n",
       "Gore Verbinski     1329600995  1.899430e+08  123207194.0  1.544738e+08\n",
       "Andrew Adamson     1137446920  2.843617e+08  279680930.5  1.208958e+08\n",
       "Shawn Levy         1129750988  1.027046e+08   85463309.0  6.548477e+07\n",
       "Ridley Scott       1128857598  8.063269e+07   47775715.0  6.881228e+07"
      ]
     },
     "execution_count": 8,
     "metadata": {},
     "output_type": "execute_result"
    }
   ],
   "source": [
    "movies.groupby(\"director\")[\"gross\"].agg(\n",
    "    [\"sum\", \"mean\", \"median\",\"std\"]\n",
    ").sort_values(by=\"sum\", ascending=False).head(15)\n"
   ]
  },
  {
   "cell_type": "markdown",
   "id": "8e20a23d",
   "metadata": {},
   "source": [
    "**Produce a table that describes how ratings are distributed by genre. We don't want just the mean, but also, min, max, median, SD and some kind of a histogram or density graph that visually shows how ratings are distributed.**"
   ]
  },
  {
   "cell_type": "code",
   "execution_count": 10,
   "id": "522570a9",
   "metadata": {},
   "outputs": [
    {
     "data": {
      "application/vnd.microsoft.datawrangler.viewer.v0+json": {
       "columns": [
        {
         "name": "genre",
         "rawType": "object",
         "type": "string"
        },
        {
         "name": "mean",
         "rawType": "float64",
         "type": "float"
        },
        {
         "name": "min",
         "rawType": "float64",
         "type": "float"
        },
        {
         "name": "max",
         "rawType": "float64",
         "type": "float"
        },
        {
         "name": "median",
         "rawType": "float64",
         "type": "float"
        },
        {
         "name": "std",
         "rawType": "float64",
         "type": "float"
        }
       ],
       "ref": "b414e046-23af-4478-872e-86633f0108cd",
       "rows": [
        [
         "Biography",
         "7.1140740740740736",
         "4.5",
         "8.9",
         "7.2",
         "0.7598274512454215"
        ],
        [
         "Crime",
         "6.915346534653466",
         "4.8",
         "9.3",
         "6.9",
         "0.8493556988664325"
        ],
        [
         "Mystery",
         "6.856249999999999",
         "4.6",
         "8.5",
         "6.9",
         "0.8816414615174734"
        ],
        [
         "Musical",
         "6.75",
         "6.3",
         "7.2",
         "6.75",
         "0.636396103067893"
        ],
        [
         "Drama",
         "6.731526104417671",
         "2.1",
         "8.8",
         "6.8",
         "0.916992547578864"
        ],
        [
         "Documentary",
         "6.66",
         "1.6",
         "8.5",
         "7.4",
         "1.7665880485651804"
        ],
        [
         "Sci-Fi",
         "6.6571428571428575",
         "5.0",
         "8.2",
         "6.4",
         "1.0937049310442353"
        ],
        [
         "Animation",
         "6.651428571428572",
         "4.5",
         "8.0",
         "6.9",
         "0.9681308335779673"
        ],
        [
         "Romance",
         "6.65",
         "6.2",
         "7.1",
         "6.65",
         "0.6363961030678927"
        ],
        [
         "Adventure",
         "6.506597222222222",
         "2.3",
         "8.6",
         "6.6",
         "1.0938814076804266"
        ],
        [
         "Family",
         "6.5",
         "5.7",
         "7.9",
         "5.9",
         "1.2165525060596438"
        ],
        [
         "Action",
         "6.2322493224932245",
         "2.1",
         "9.0",
         "6.3",
         "1.0303616536009133"
        ],
        [
         "Fantasy",
         "6.153571428571429",
         "4.3",
         "7.9",
         "6.45",
         "0.958966319594386"
        ],
        [
         "Comedy",
         "6.109669811320755",
         "1.9",
         "8.8",
         "6.2",
         "1.0230753852269847"
        ],
        [
         "Horror",
         "5.833587786259542",
         "3.6",
         "8.5",
         "5.9",
         "1.014328932161017"
        ],
        [
         "Western",
         "5.699999999999999",
         "4.1",
         "7.3",
         "5.699999999999999",
         "2.262741699796952"
        ],
        [
         "Thriller",
         "4.8",
         "4.8",
         "4.8",
         "4.8",
         null
        ]
       ],
       "shape": {
        "columns": 5,
        "rows": 17
       }
      },
      "text/html": [
       "<div>\n",
       "<style scoped>\n",
       "    .dataframe tbody tr th:only-of-type {\n",
       "        vertical-align: middle;\n",
       "    }\n",
       "\n",
       "    .dataframe tbody tr th {\n",
       "        vertical-align: top;\n",
       "    }\n",
       "\n",
       "    .dataframe thead th {\n",
       "        text-align: right;\n",
       "    }\n",
       "</style>\n",
       "<table border=\"1\" class=\"dataframe\">\n",
       "  <thead>\n",
       "    <tr style=\"text-align: right;\">\n",
       "      <th></th>\n",
       "      <th>mean</th>\n",
       "      <th>min</th>\n",
       "      <th>max</th>\n",
       "      <th>median</th>\n",
       "      <th>std</th>\n",
       "    </tr>\n",
       "    <tr>\n",
       "      <th>genre</th>\n",
       "      <th></th>\n",
       "      <th></th>\n",
       "      <th></th>\n",
       "      <th></th>\n",
       "      <th></th>\n",
       "    </tr>\n",
       "  </thead>\n",
       "  <tbody>\n",
       "    <tr>\n",
       "      <th>Biography</th>\n",
       "      <td>7.114074</td>\n",
       "      <td>4.5</td>\n",
       "      <td>8.9</td>\n",
       "      <td>7.20</td>\n",
       "      <td>0.759827</td>\n",
       "    </tr>\n",
       "    <tr>\n",
       "      <th>Crime</th>\n",
       "      <td>6.915347</td>\n",
       "      <td>4.8</td>\n",
       "      <td>9.3</td>\n",
       "      <td>6.90</td>\n",
       "      <td>0.849356</td>\n",
       "    </tr>\n",
       "    <tr>\n",
       "      <th>Mystery</th>\n",
       "      <td>6.856250</td>\n",
       "      <td>4.6</td>\n",
       "      <td>8.5</td>\n",
       "      <td>6.90</td>\n",
       "      <td>0.881641</td>\n",
       "    </tr>\n",
       "    <tr>\n",
       "      <th>Musical</th>\n",
       "      <td>6.750000</td>\n",
       "      <td>6.3</td>\n",
       "      <td>7.2</td>\n",
       "      <td>6.75</td>\n",
       "      <td>0.636396</td>\n",
       "    </tr>\n",
       "    <tr>\n",
       "      <th>Drama</th>\n",
       "      <td>6.731526</td>\n",
       "      <td>2.1</td>\n",
       "      <td>8.8</td>\n",
       "      <td>6.80</td>\n",
       "      <td>0.916993</td>\n",
       "    </tr>\n",
       "    <tr>\n",
       "      <th>Documentary</th>\n",
       "      <td>6.660000</td>\n",
       "      <td>1.6</td>\n",
       "      <td>8.5</td>\n",
       "      <td>7.40</td>\n",
       "      <td>1.766588</td>\n",
       "    </tr>\n",
       "    <tr>\n",
       "      <th>Sci-Fi</th>\n",
       "      <td>6.657143</td>\n",
       "      <td>5.0</td>\n",
       "      <td>8.2</td>\n",
       "      <td>6.40</td>\n",
       "      <td>1.093705</td>\n",
       "    </tr>\n",
       "    <tr>\n",
       "      <th>Animation</th>\n",
       "      <td>6.651429</td>\n",
       "      <td>4.5</td>\n",
       "      <td>8.0</td>\n",
       "      <td>6.90</td>\n",
       "      <td>0.968131</td>\n",
       "    </tr>\n",
       "    <tr>\n",
       "      <th>Romance</th>\n",
       "      <td>6.650000</td>\n",
       "      <td>6.2</td>\n",
       "      <td>7.1</td>\n",
       "      <td>6.65</td>\n",
       "      <td>0.636396</td>\n",
       "    </tr>\n",
       "    <tr>\n",
       "      <th>Adventure</th>\n",
       "      <td>6.506597</td>\n",
       "      <td>2.3</td>\n",
       "      <td>8.6</td>\n",
       "      <td>6.60</td>\n",
       "      <td>1.093881</td>\n",
       "    </tr>\n",
       "    <tr>\n",
       "      <th>Family</th>\n",
       "      <td>6.500000</td>\n",
       "      <td>5.7</td>\n",
       "      <td>7.9</td>\n",
       "      <td>5.90</td>\n",
       "      <td>1.216553</td>\n",
       "    </tr>\n",
       "    <tr>\n",
       "      <th>Action</th>\n",
       "      <td>6.232249</td>\n",
       "      <td>2.1</td>\n",
       "      <td>9.0</td>\n",
       "      <td>6.30</td>\n",
       "      <td>1.030362</td>\n",
       "    </tr>\n",
       "    <tr>\n",
       "      <th>Fantasy</th>\n",
       "      <td>6.153571</td>\n",
       "      <td>4.3</td>\n",
       "      <td>7.9</td>\n",
       "      <td>6.45</td>\n",
       "      <td>0.958966</td>\n",
       "    </tr>\n",
       "    <tr>\n",
       "      <th>Comedy</th>\n",
       "      <td>6.109670</td>\n",
       "      <td>1.9</td>\n",
       "      <td>8.8</td>\n",
       "      <td>6.20</td>\n",
       "      <td>1.023075</td>\n",
       "    </tr>\n",
       "    <tr>\n",
       "      <th>Horror</th>\n",
       "      <td>5.833588</td>\n",
       "      <td>3.6</td>\n",
       "      <td>8.5</td>\n",
       "      <td>5.90</td>\n",
       "      <td>1.014329</td>\n",
       "    </tr>\n",
       "    <tr>\n",
       "      <th>Western</th>\n",
       "      <td>5.700000</td>\n",
       "      <td>4.1</td>\n",
       "      <td>7.3</td>\n",
       "      <td>5.70</td>\n",
       "      <td>2.262742</td>\n",
       "    </tr>\n",
       "    <tr>\n",
       "      <th>Thriller</th>\n",
       "      <td>4.800000</td>\n",
       "      <td>4.8</td>\n",
       "      <td>4.8</td>\n",
       "      <td>4.80</td>\n",
       "      <td>NaN</td>\n",
       "    </tr>\n",
       "  </tbody>\n",
       "</table>\n",
       "</div>"
      ],
      "text/plain": [
       "                 mean  min  max  median       std\n",
       "genre                                            \n",
       "Biography    7.114074  4.5  8.9    7.20  0.759827\n",
       "Crime        6.915347  4.8  9.3    6.90  0.849356\n",
       "Mystery      6.856250  4.6  8.5    6.90  0.881641\n",
       "Musical      6.750000  6.3  7.2    6.75  0.636396\n",
       "Drama        6.731526  2.1  8.8    6.80  0.916993\n",
       "Documentary  6.660000  1.6  8.5    7.40  1.766588\n",
       "Sci-Fi       6.657143  5.0  8.2    6.40  1.093705\n",
       "Animation    6.651429  4.5  8.0    6.90  0.968131\n",
       "Romance      6.650000  6.2  7.1    6.65  0.636396\n",
       "Adventure    6.506597  2.3  8.6    6.60  1.093881\n",
       "Family       6.500000  5.7  7.9    5.90  1.216553\n",
       "Action       6.232249  2.1  9.0    6.30  1.030362\n",
       "Fantasy      6.153571  4.3  7.9    6.45  0.958966\n",
       "Comedy       6.109670  1.9  8.8    6.20  1.023075\n",
       "Horror       5.833588  3.6  8.5    5.90  1.014329\n",
       "Western      5.700000  4.1  7.3    5.70  2.262742\n",
       "Thriller     4.800000  4.8  4.8    4.80       NaN"
      ]
     },
     "execution_count": 10,
     "metadata": {},
     "output_type": "execute_result"
    }
   ],
   "source": [
    "# 4) Rating stats by genre (mean/min/max/median/std)\n",
    "movies.groupby(\"genre\")[\"rating\"].agg([\"mean\", \"min\", \"max\", \"median\", \"std\"]).sort_values(\"mean\", ascending=False)\n"
   ]
  },
  {
   "cell_type": "code",
   "execution_count": 11,
   "id": "a6ba4bf4",
   "metadata": {},
   "outputs": [
    {
     "data": {
      "image/png": "[encoded data removed]",
      "text/plain": [
       "<Figure size 640x480 with 1 Axes>"
      ]
     },
     "metadata": {},
     "output_type": "display_data"
    }
   ],
   "source": [
    "# 4b) Rating distribution: histogram (overall)\n",
    "plt.figure()\n",
    "plt.hist(movies[\"rating\"].dropna(), bins=20, density=True, edgecolor=\"black\")\n",
    "plt.xlabel(\"Rating\"); plt.ylabel(\"Density\"); plt.title(\"Rating Distribution\")\n",
    "plt.show()\n"
   ]
  },
  {
   "cell_type": "markdown",
   "id": "07011570",
   "metadata": {},
   "source": [
    "**Challenge - Produce a table of your own choosing, something you think is important/interesting to have data for, justify your result by writting a 2 sentence explanation/interpretation of the result.**"
   ]
  },
  {
   "cell_type": "code",
   "execution_count": 12,
   "id": "e950cd00",
   "metadata": {},
   "outputs": [
    {
     "data": {
      "application/vnd.microsoft.datawrangler.viewer.v0+json": {
       "columns": [
        {
         "name": "decade",
         "rawType": "int64",
         "type": "integer"
        },
        {
         "name": "movies_count",
         "rawType": "int64",
         "type": "integer"
        },
        {
         "name": "median_roi",
         "rawType": "float64",
         "type": "float"
        },
        {
         "name": "mean_rating",
         "rawType": "float64",
         "type": "float"
        }
       ],
       "ref": "824bdc3f-bfb4-421c-b910-78e8447c6e74",
       "rows": [
        [
         "1920",
         "2",
         "18.70448548812665",
         "5.55"
        ],
        [
         "1930",
         "6",
         "6.5843421200781",
         "8.016666666666667"
        ],
        [
         "1940",
         "5",
         "2.55",
         "7.459999999999999"
        ],
        [
         "1950",
         "6",
         "8.834486422307972",
         "7.283333333333334"
        ],
        [
         "1960",
         "10",
         "8.715772727272729",
         "7.69"
        ],
        [
         "1970",
         "37",
         "22.470325333333335",
         "7.405405405405405"
        ],
        [
         "1980",
         "176",
         "3.066764685263158",
         "6.6744318181818185"
        ],
        [
         "1990",
         "602",
         "1.2507069",
         "6.5093023255813955"
        ],
        [
         "2000",
         "1326",
         "1.0613770157894737",
         "6.253318250377074"
        ],
        [
         "2010",
         "791",
         "1.1755539666666666",
         "6.374462705436157"
        ]
       ],
       "shape": {
        "columns": 3,
        "rows": 10
       }
      },
      "text/html": [
       "<div>\n",
       "<style scoped>\n",
       "    .dataframe tbody tr th:only-of-type {\n",
       "        vertical-align: middle;\n",
       "    }\n",
       "\n",
       "    .dataframe tbody tr th {\n",
       "        vertical-align: top;\n",
       "    }\n",
       "\n",
       "    .dataframe thead th {\n",
       "        text-align: right;\n",
       "    }\n",
       "</style>\n",
       "<table border=\"1\" class=\"dataframe\">\n",
       "  <thead>\n",
       "    <tr style=\"text-align: right;\">\n",
       "      <th></th>\n",
       "      <th>movies_count</th>\n",
       "      <th>median_roi</th>\n",
       "      <th>mean_rating</th>\n",
       "    </tr>\n",
       "    <tr>\n",
       "      <th>decade</th>\n",
       "      <th></th>\n",
       "      <th></th>\n",
       "      <th></th>\n",
       "    </tr>\n",
       "  </thead>\n",
       "  <tbody>\n",
       "    <tr>\n",
       "      <th>1920</th>\n",
       "      <td>2</td>\n",
       "      <td>18.704485</td>\n",
       "      <td>5.550000</td>\n",
       "    </tr>\n",
       "    <tr>\n",
       "      <th>1930</th>\n",
       "      <td>6</td>\n",
       "      <td>6.584342</td>\n",
       "      <td>8.016667</td>\n",
       "    </tr>\n",
       "    <tr>\n",
       "      <th>1940</th>\n",
       "      <td>5</td>\n",
       "      <td>2.550000</td>\n",
       "      <td>7.460000</td>\n",
       "    </tr>\n",
       "    <tr>\n",
       "      <th>1950</th>\n",
       "      <td>6</td>\n",
       "      <td>8.834486</td>\n",
       "      <td>7.283333</td>\n",
       "    </tr>\n",
       "    <tr>\n",
       "      <th>1960</th>\n",
       "      <td>10</td>\n",
       "      <td>8.715773</td>\n",
       "      <td>7.690000</td>\n",
       "    </tr>\n",
       "    <tr>\n",
       "      <th>1970</th>\n",
       "      <td>37</td>\n",
       "      <td>22.470325</td>\n",
       "      <td>7.405405</td>\n",
       "    </tr>\n",
       "    <tr>\n",
       "      <th>1980</th>\n",
       "      <td>176</td>\n",
       "      <td>3.066765</td>\n",
       "      <td>6.674432</td>\n",
       "    </tr>\n",
       "    <tr>\n",
       "      <th>1990</th>\n",
       "      <td>602</td>\n",
       "      <td>1.250707</td>\n",
       "      <td>6.509302</td>\n",
       "    </tr>\n",
       "    <tr>\n",
       "      <th>2000</th>\n",
       "      <td>1326</td>\n",
       "      <td>1.061377</td>\n",
       "      <td>6.253318</td>\n",
       "    </tr>\n",
       "    <tr>\n",
       "      <th>2010</th>\n",
       "      <td>791</td>\n",
       "      <td>1.175554</td>\n",
       "      <td>6.374463</td>\n",
       "    </tr>\n",
       "  </tbody>\n",
       "</table>\n",
       "</div>"
      ],
      "text/plain": [
       "        movies_count  median_roi  mean_rating\n",
       "decade                                       \n",
       "1920               2   18.704485     5.550000\n",
       "1930               6    6.584342     8.016667\n",
       "1940               5    2.550000     7.460000\n",
       "1950               6    8.834486     7.283333\n",
       "1960              10    8.715773     7.690000\n",
       "1970              37   22.470325     7.405405\n",
       "1980             176    3.066765     6.674432\n",
       "1990             602    1.250707     6.509302\n",
       "2000            1326    1.061377     6.253318\n",
       "2010             791    1.175554     6.374463"
      ]
     },
     "execution_count": 12,
     "metadata": {},
     "output_type": "execute_result"
    }
   ],
   "source": [
    "# Challenge table example: decade overview (count, median ROI, mean rating)\n",
    "mov2 = movies.assign(\n",
    "    decade=(movies[\"year\"] // 10) * 10,\n",
    "    roi=np.where(movies[\"budget\"] > 0, movies[\"gross\"] / movies[\"budget\"], np.nan)\n",
    ")\n",
    "mov2.groupby(\"decade\").agg(\n",
    "    movies_count=(\"title\", \"count\"),\n",
    "    median_roi=(\"roi\", \"median\"),\n",
    "    mean_rating=(\"rating\", \"mean\")\n",
    ").sort_index()\n"
   ]
  },
  {
   "cell_type": "markdown",
   "id": "744ce986",
   "metadata": {},
   "source": [
    "#### Use visualisation to answer the following questions\n",
    "\n",
    "**Examine the relationship between `gross` and `cast_facebook_likes`. Produce a scatterplot and write one sentence discussing whether the number of facebook likes that the cast has received is likely to be a good predictor of how much money a movie will make at the box office. What variable are you going to map to the Y- and X- axes?**"
   ]
  },
  {
   "cell_type": "code",
   "execution_count": 13,
   "id": "20bd6e16",
   "metadata": {},
   "outputs": [
    {
     "data": {
      "image/png": "[encoded data removed]",
      "text/plain": [
       "<Figure size 640x480 with 1 Axes>"
      ]
     },
     "metadata": {},
     "output_type": "display_data"
    }
   ],
   "source": [
    "# Visualization Q1: gross vs cast_facebook_likes (X: likes, Y: gross)\n",
    "plt.figure()\n",
    "plt.scatter(movies[\"cast_facebook_likes\"], movies[\"gross\"], s=10, alpha=0.6)\n",
    "plt.xlabel(\"Cast Facebook Likes\"); plt.ylabel(\"Gross (USD)\"); plt.title(\"Gross vs Cast Facebook Likes\")\n",
    "plt.show()\n"
   ]
  },
  {
   "cell_type": "markdown",
   "id": "cb116d64",
   "metadata": {},
   "source": [
    "**Examine the relationship between `gross` and `budget`. Produce a scatterplot and write one sentence discussing whether budget is likely to be a good predictor of how much money a movie will make at the box office.**"
   ]
  },
  {
   "cell_type": "code",
   "execution_count": 14,
   "id": "8033a004",
   "metadata": {},
   "outputs": [
    {
     "data": {
      "image/png": "[encoded data removed]",
      "text/plain": [
       "<Figure size 640x480 with 1 Axes>"
      ]
     },
     "metadata": {},
     "output_type": "display_data"
    }
   ],
   "source": [
    "# Visualization Q2: gross vs budget (log–log)\n",
    "plt.figure()\n",
    "plt.scatter(movies[\"budget\"], movies[\"gross\"], s=10, alpha=0.6)\n",
    "plt.xscale(\"log\"); plt.yscale(\"log\")\n",
    "plt.xlabel(\"Budget (USD, log)\"); plt.ylabel(\"Gross (USD, log)\"); plt.title(\"Gross vs Budget (log–log)\")\n",
    "plt.show()\n"
   ]
  },
  {
   "cell_type": "markdown",
   "id": "827b0ecb",
   "metadata": {},
   "source": [
    "**Examine the relationship between `gross` and `rating`. Produce a scatterplot, faceted by `genre` and discuss whether IMDB ratings are likely to be a good predictor of how much money a movie will make at the box office. Is there anything strange in this dataset?**"
   ]
  },
  {
   "cell_type": "code",
   "execution_count": 15,
   "id": "d3694e9c",
   "metadata": {},
   "outputs": [
    {
     "data": {
      "image/png": "[encoded data removed]",
      "text/plain": [
       "<Figure size 1200x700 with 6 Axes>"
      ]
     },
     "metadata": {},
     "output_type": "display_data"
    }
   ],
   "source": [
    "# Visualization Q3: gross vs rating, faceted by genre (top 6 by count)\n",
    "top6 = movies[\"genre\"].value_counts().head(6).index\n",
    "sub = movies[movies[\"genre\"].isin(top6)].copy()\n",
    "\n",
    "rows, cols = 2, 3\n",
    "fig, axes = plt.subplots(rows, cols, figsize=(12, 7), sharex=True, sharey=True)\n",
    "axes = axes.ravel()\n",
    "for i, g in enumerate(top6):\n",
    "    tmp = sub[sub[\"genre\"] == g]\n",
    "    axes[i].scatter(tmp[\"rating\"], tmp[\"gross\"], s=10, alpha=0.6)\n",
    "    axes[i].set_title(g); axes[i].set_xlabel(\"Rating\")\n",
    "    if i % cols == 0: axes[i].set_ylabel(\"Gross (USD)\")\n",
    "fig.suptitle(\"Gross vs Rating (Faceted by Genre)\", y=1.02)\n",
    "plt.tight_layout()\n",
    "plt.show()\n"
   ]
  },
  {
   "cell_type": "markdown",
   "id": "078697a6",
   "metadata": {},
   "source": [
    "**Challenge - Produce a visualisation of your choosing, something you think is important to explore/investigate visually. Do make it a comprehensive graph and not a single histogram or density plot. Make it publication ready, label your axes, give it a title, choose colouring options, appropirately formatted text etc.**"
   ]
  },
  {
   "cell_type": "code",
   "execution_count": 16,
   "id": "bef6ecf1",
   "metadata": {},
   "outputs": [
    {
     "data": {
      "image/png": "[encoded data removed]",
      "text/plain": [
       "<Figure size 1000x600 with 1 Axes>"
      ]
     },
     "metadata": {},
     "output_type": "display_data"
    }
   ],
   "source": [
    "# Challenge viz example: yearly mean rating by top 5 genres\n",
    "top5 = movies[\"genre\"].value_counts().head(5).index\n",
    "yr = (movies[movies[\"genre\"].isin(top5)]\n",
    "      .groupby([\"year\", \"genre\"])[\"rating\"]\n",
    "      .mean().reset_index().sort_values([\"genre\", \"year\"]))\n",
    "\n",
    "plt.figure(figsize=(10, 6))\n",
    "for g in top5:\n",
    "    seg = yr[yr[\"genre\"] == g]\n",
    "    plt.plot(seg[\"year\"], seg[\"rating\"], label=g, linewidth=1.5)\n",
    "plt.xlabel(\"Year\"); plt.ylabel(\"Mean Rating\"); plt.title(\"Yearly Mean Rating by Genre (Top 5)\")\n",
    "plt.legend(title=\"Genre\", fontsize=8)\n",
    "plt.show()\n"
   ]
  },
  {
   "cell_type": "markdown",
   "id": "147818f8",
   "metadata": {},
   "source": [
    "### Deliverables\n",
    "\n",
    "Poduce a clean, stand-alone notebook (or HTML export) with:\n",
    "\n",
    "All tables/plots properly labeled\n",
    "\n",
    "Brief interpretations where requested\n",
    "\n",
    "Upload final HTML/Notebook."
   ]
  }
 ],
 "metadata": {
  "kernelspec": {
   "display_name": "Python 3",
   "language": "python",
   "name": "python3"
  },
  "language_info": {
   "codemirror_mode": {
    "name": "ipython",
    "version": 3
   },
   "file_extension": ".py",
   "mimetype": "text/x-python",
   "name": "python",
   "nbconvert_exporter": "python",
   "pygments_lexer": "ipython3",
   "version": "3.12.1"
  }
 },
 "nbformat": 4,
 "nbformat_minor": 5
}
